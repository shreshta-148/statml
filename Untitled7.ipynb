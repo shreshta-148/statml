{
  "nbformat": 4,
  "nbformat_minor": 0,
  "metadata": {
    "colab": {
      "provenance": []
    },
    "kernelspec": {
      "name": "python3",
      "display_name": "Python 3"
    },
    "language_info": {
      "name": "python"
    }
  },
  "cells": [
    {
      "cell_type": "code",
      "execution_count": null,
      "metadata": {
        "colab": {
          "base_uri": "https://localhost:8080/"
        },
        "id": "L3_Gbt9WwzBu",
        "outputId": "1bf682d8-b4c0-431e-9a4f-63d6c95c31d4"
      },
      "outputs": [
        {
          "output_type": "stream",
          "name": "stdout",
          "text": [
            "     Unnamed: 0  work_year experience_level employment_type  \\\n",
            "0             0       2020               MI              FT   \n",
            "1             1       2020               SE              FT   \n",
            "2             2       2020               SE              FT   \n",
            "3             3       2020               MI              FT   \n",
            "4             4       2020               SE              FT   \n",
            "..          ...        ...              ...             ...   \n",
            "602         602       2022               SE              FT   \n",
            "603         603       2022               SE              FT   \n",
            "604         604       2022               SE              FT   \n",
            "605         605       2022               SE              FT   \n",
            "606         606       2022               MI              FT   \n",
            "\n",
            "                      job_title  salary salary_currency  salary_in_usd  \\\n",
            "0                Data Scientist   70000             EUR          79833   \n",
            "1    Machine Learning Scientist  260000             USD         260000   \n",
            "2             Big Data Engineer   85000             GBP         109024   \n",
            "3          Product Data Analyst   20000             USD          20000   \n",
            "4     Machine Learning Engineer  150000             USD         150000   \n",
            "..                          ...     ...             ...            ...   \n",
            "602               Data Engineer  154000             USD         154000   \n",
            "603               Data Engineer  126000             USD         126000   \n",
            "604                Data Analyst  129000             USD         129000   \n",
            "605                Data Analyst  150000             USD         150000   \n",
            "606                AI Scientist  200000             USD         200000   \n",
            "\n",
            "    employee_residence  remote_ratio company_location company_size  \n",
            "0                   DE             0               DE            L  \n",
            "1                   JP             0               JP            S  \n",
            "2                   GB            50               GB            M  \n",
            "3                   HN             0               HN            S  \n",
            "4                   US            50               US            L  \n",
            "..                 ...           ...              ...          ...  \n",
            "602                 US           100               US            M  \n",
            "603                 US           100               US            M  \n",
            "604                 US             0               US            M  \n",
            "605                 US           100               US            M  \n",
            "606                 IN           100               US            L  \n",
            "\n",
            "[607 rows x 12 columns]\n"
          ]
        }
      ],
      "source": [
        "import pandas as pd\n",
        "d=pd.read_csv('/content/stat ml data (1).zip')\n",
        "print(d)"
      ]
    },
    {
      "cell_type": "code",
      "source": [
        "print(d.isnull)"
      ],
      "metadata": {
        "colab": {
          "base_uri": "https://localhost:8080/"
        },
        "id": "uIibxhUsxv2k",
        "outputId": "2941e7a5-7b0c-444d-a6c7-53b0ea34a86d"
      },
      "execution_count": null,
      "outputs": [
        {
          "output_type": "stream",
          "name": "stdout",
          "text": [
            "<bound method DataFrame.isnull of      Unnamed: 0  work_year experience_level employment_type  \\\n",
            "0             0       2020               MI              FT   \n",
            "1             1       2020               SE              FT   \n",
            "2             2       2020               SE              FT   \n",
            "3             3       2020               MI              FT   \n",
            "4             4       2020               SE              FT   \n",
            "..          ...        ...              ...             ...   \n",
            "602         602       2022               SE              FT   \n",
            "603         603       2022               SE              FT   \n",
            "604         604       2022               SE              FT   \n",
            "605         605       2022               SE              FT   \n",
            "606         606       2022               MI              FT   \n",
            "\n",
            "                      job_title  salary salary_currency  salary_in_usd  \\\n",
            "0                Data Scientist   70000             EUR          79833   \n",
            "1    Machine Learning Scientist  260000             USD         260000   \n",
            "2             Big Data Engineer   85000             GBP         109024   \n",
            "3          Product Data Analyst   20000             USD          20000   \n",
            "4     Machine Learning Engineer  150000             USD         150000   \n",
            "..                          ...     ...             ...            ...   \n",
            "602               Data Engineer  154000             USD         154000   \n",
            "603               Data Engineer  126000             USD         126000   \n",
            "604                Data Analyst  129000             USD         129000   \n",
            "605                Data Analyst  150000             USD         150000   \n",
            "606                AI Scientist  200000             USD         200000   \n",
            "\n",
            "    employee_residence  remote_ratio company_location company_size  \n",
            "0                   DE             0               DE            L  \n",
            "1                   JP             0               JP            S  \n",
            "2                   GB            50               GB            M  \n",
            "3                   HN             0               HN            S  \n",
            "4                   US            50               US            L  \n",
            "..                 ...           ...              ...          ...  \n",
            "602                 US           100               US            M  \n",
            "603                 US           100               US            M  \n",
            "604                 US             0               US            M  \n",
            "605                 US           100               US            M  \n",
            "606                 IN           100               US            L  \n",
            "\n",
            "[607 rows x 12 columns]>\n"
          ]
        }
      ]
    },
    {
      "cell_type": "code",
      "source": [
        "d1=d.fillna(0)\n",
        "x1=d['salary']\n",
        "y=d['']"
      ],
      "metadata": {
        "id": "51qCFRAix5zm"
      },
      "execution_count": null,
      "outputs": []
    }
  ]
}